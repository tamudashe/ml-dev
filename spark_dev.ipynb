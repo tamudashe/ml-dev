{
 "cells": [
  {
   "cell_type": "code",
   "execution_count": 1,
   "metadata": {},
   "outputs": [
    {
     "ename": "ModuleNotFoundError",
     "evalue": "No module named 'pyspark'",
     "output_type": "error",
     "traceback": [
      "\u001b[0;31m---------------------------------------------------------------------------\u001b[0m",
      "\u001b[0;31mModuleNotFoundError\u001b[0m                       Traceback (most recent call last)",
      "\u001b[1;32m/Users/tamudashe/Projects/ml-dev/spark_dev.ipynb Cell 1\u001b[0m line \u001b[0;36m1\n\u001b[0;32m----> <a href='vscode-notebook-cell:/Users/tamudashe/Projects/ml-dev/spark_dev.ipynb#W0sZmlsZQ%3D%3D?line=0'>1</a>\u001b[0m \u001b[39mfrom\u001b[39;00m \u001b[39mpyspark\u001b[39;00m\u001b[39m.\u001b[39;00m\u001b[39msql\u001b[39;00m \u001b[39mimport\u001b[39;00m SparkSession\n\u001b[1;32m      <a href='vscode-notebook-cell:/Users/tamudashe/Projects/ml-dev/spark_dev.ipynb#W0sZmlsZQ%3D%3D?line=1'>2</a>\u001b[0m \u001b[39mfrom\u001b[39;00m \u001b[39mpyspark\u001b[39;00m\u001b[39m.\u001b[39;00m\u001b[39msql\u001b[39;00m\u001b[39m.\u001b[39;00m\u001b[39mfunctions\u001b[39;00m \u001b[39mimport\u001b[39;00m (\n\u001b[1;32m      <a href='vscode-notebook-cell:/Users/tamudashe/Projects/ml-dev/spark_dev.ipynb#W0sZmlsZQ%3D%3D?line=2'>3</a>\u001b[0m     split, \n\u001b[1;32m      <a href='vscode-notebook-cell:/Users/tamudashe/Projects/ml-dev/spark_dev.ipynb#W0sZmlsZQ%3D%3D?line=3'>4</a>\u001b[0m     col, \n\u001b[0;32m   (...)\u001b[0m\n\u001b[1;32m      <a href='vscode-notebook-cell:/Users/tamudashe/Projects/ml-dev/spark_dev.ipynb#W0sZmlsZQ%3D%3D?line=6'>7</a>\u001b[0m     regexp_extract,\n\u001b[1;32m      <a href='vscode-notebook-cell:/Users/tamudashe/Projects/ml-dev/spark_dev.ipynb#W0sZmlsZQ%3D%3D?line=7'>8</a>\u001b[0m )\n",
      "\u001b[0;31mModuleNotFoundError\u001b[0m: No module named 'pyspark'"
     ]
    }
   ],
   "source": [
    "from pyspark.sql import SparkSession\n",
    "from pyspark.sql.functions import (\n",
    "    split, \n",
    "    col, \n",
    "    explode, \n",
    "    lower, \n",
    "    regexp_extract,\n",
    ")"
   ]
  },
  {
   "cell_type": "code",
   "execution_count": 34,
   "metadata": {},
   "outputs": [],
   "source": [
    "spark = SparkSession.builder.appName(\"canvas\").getOrCreate()\n",
    "spark.sparkContext.setLogLevel(\"WARN\")"
   ]
  },
  {
   "cell_type": "code",
   "execution_count": 48,
   "metadata": {},
   "outputs": [],
   "source": [
    "book = spark.read.text(\"./datasets/pride_and_predudice.txt\")"
   ]
  },
  {
   "cell_type": "code",
   "execution_count": 65,
   "metadata": {},
   "outputs": [
    {
     "name": "stdout",
     "output_type": "stream",
     "text": [
      "+---------------------------------------------------------------------------------------+\n",
      "|line                                                                                   |\n",
      "+---------------------------------------------------------------------------------------+\n",
      "|[The, Project, Gutenberg, eBook, of, Pride, and, Prejudice]                            |\n",
      "|[, , , , ]                                                                             |\n",
      "|[This, ebook, is, for, the, use, of, anyone, anywhere, in, the, United, States, and]   |\n",
      "|[most, other, parts, of, the, world, at, no, cost, and, with, almost, no, restrictions]|\n",
      "|[whatsoever., You, may, copy, it,, give, it, away, or, re-use, it, under, the, terms]  |\n",
      "|[of, the, Project, Gutenberg, License, included, with, this, ebook, or, online]        |\n",
      "|[at, www.gutenberg.org., If, you, are, not, located, in, the, United, States,]         |\n",
      "|[you, will, have, to, check, the, laws, of, the, country, where, you, are, located]    |\n",
      "|[before, using, this, eBook.]                                                          |\n",
      "|[]                                                                                     |\n",
      "|[Title:, Pride, and, Prejudice]                                                        |\n",
      "|[]                                                                                     |\n",
      "|[]                                                                                     |\n",
      "|[Author:, Jane, Austen]                                                                |\n",
      "|[]                                                                                     |\n",
      "|[Release, date:, June, 1,, 1998, [eBook, #1342]]                                       |\n",
      "|[, , , , , , , , , , , , , , , , Most, recently, updated:, April, 14,, 2023]           |\n",
      "|[]                                                                                     |\n",
      "|[Language:, English]                                                                   |\n",
      "|[]                                                                                     |\n",
      "+---------------------------------------------------------------------------------------+\n",
      "only showing top 20 rows\n",
      "\n"
     ]
    }
   ],
   "source": [
    "lines = book.select(split(col(\"value\"), \" \").alias(\"line\"))\n",
    "lines.show(truncate=False)"
   ]
  },
  {
   "cell_type": "code",
   "execution_count": 75,
   "metadata": {},
   "outputs": [
    {
     "name": "stdout",
     "output_type": "stream",
     "text": [
      "+---------+\n",
      "|     word|\n",
      "+---------+\n",
      "|      The|\n",
      "|  Project|\n",
      "|Gutenberg|\n",
      "|    eBook|\n",
      "|       of|\n",
      "|    Pride|\n",
      "|      and|\n",
      "|Prejudice|\n",
      "|         |\n",
      "|         |\n",
      "|         |\n",
      "|         |\n",
      "|         |\n",
      "|     This|\n",
      "|    ebook|\n",
      "|       is|\n",
      "|      for|\n",
      "|      the|\n",
      "|      use|\n",
      "|       of|\n",
      "+---------+\n",
      "only showing top 20 rows\n",
      "\n"
     ]
    }
   ],
   "source": [
    "words = lines.select(explode(col(\"line\")).alias(\"word\"))\n",
    "words.show()"
   ]
  },
  {
   "cell_type": "code",
   "execution_count": 78,
   "metadata": {},
   "outputs": [
    {
     "name": "stdout",
     "output_type": "stream",
     "text": [
      "+----------+\n",
      "|word_lower|\n",
      "+----------+\n",
      "|       the|\n",
      "|   project|\n",
      "| gutenberg|\n",
      "|     ebook|\n",
      "|        of|\n",
      "|     pride|\n",
      "|       and|\n",
      "| prejudice|\n",
      "|          |\n",
      "|          |\n",
      "|          |\n",
      "|          |\n",
      "|          |\n",
      "|      this|\n",
      "|     ebook|\n",
      "|        is|\n",
      "|       for|\n",
      "|       the|\n",
      "|       use|\n",
      "|        of|\n",
      "+----------+\n",
      "only showing top 20 rows\n",
      "\n"
     ]
    }
   ],
   "source": [
    "words_lower = words.select(lower(col(\"word\")).alias(\"word_lower\"))\n",
    "words_lower.show()"
   ]
  },
  {
   "cell_type": "code",
   "execution_count": 81,
   "metadata": {},
   "outputs": [
    {
     "name": "stdout",
     "output_type": "stream",
     "text": [
      "+---------+\n",
      "|     word|\n",
      "+---------+\n",
      "|      the|\n",
      "|  project|\n",
      "|gutenberg|\n",
      "|    ebook|\n",
      "|       of|\n",
      "|    pride|\n",
      "|      and|\n",
      "|prejudice|\n",
      "|         |\n",
      "|         |\n",
      "|         |\n",
      "|         |\n",
      "|         |\n",
      "|     this|\n",
      "|    ebook|\n",
      "|       is|\n",
      "|      for|\n",
      "|      the|\n",
      "|      use|\n",
      "|       of|\n",
      "+---------+\n",
      "only showing top 20 rows\n",
      "\n"
     ]
    }
   ],
   "source": [
    "cleaned_words = words_lower.select(\n",
    "    regexp_extract(col(\"word_lower\"), \"[a-z]+\", 0).alias(\"word\")\n",
    ")\n",
    "cleaned_words.show()"
   ]
  },
  {
   "cell_type": "code",
   "execution_count": 83,
   "metadata": {},
   "outputs": [
    {
     "name": "stdout",
     "output_type": "stream",
     "text": [
      "+---------+\n",
      "|     word|\n",
      "+---------+\n",
      "|      the|\n",
      "|  project|\n",
      "|gutenberg|\n",
      "|    ebook|\n",
      "|       of|\n",
      "|    pride|\n",
      "|      and|\n",
      "|prejudice|\n",
      "|     this|\n",
      "|    ebook|\n",
      "|       is|\n",
      "|      for|\n",
      "|      the|\n",
      "|      use|\n",
      "|       of|\n",
      "|   anyone|\n",
      "| anywhere|\n",
      "|       in|\n",
      "|      the|\n",
      "|   united|\n",
      "+---------+\n",
      "only showing top 20 rows\n",
      "\n"
     ]
    }
   ],
   "source": [
    "words_notnull = cleaned_words.filter(col(\"word\") != \"\")\n",
    "words_notnull.show()"
   ]
  },
  {
   "cell_type": "code",
   "execution_count": 95,
   "metadata": {},
   "outputs": [
    {
     "name": "stdout",
     "output_type": "stream",
     "text": [
      "+------------+-----+\n",
      "|        word|count|\n",
      "+------------+-----+\n",
      "|      online|    5|\n",
      "|       those|   65|\n",
      "|        some|  212|\n",
      "|     insipid|    2|\n",
      "|       still|   77|\n",
      "|         art|    7|\n",
      "|        hope|  126|\n",
      "|        earl|    3|\n",
      "|         few|   73|\n",
      "|   destitute|    2|\n",
      "|  palpitated|    1|\n",
      "|   connected|   15|\n",
      "|    cautious|    4|\n",
      "|   imitation|    1|\n",
      "|     solaced|    1|\n",
      "|      poetry|    2|\n",
      "|   arguments|    5|\n",
      "|premeditated|    1|\n",
      "|     elevate|    1|\n",
      "|      doubts|    2|\n",
      "+------------+-----+\n",
      "only showing top 20 rows\n",
      "\n"
     ]
    }
   ],
   "source": [
    "groups = words_notnull.groupBy(col(\"word\")).count()\n",
    "groups.show()"
   ]
  },
  {
   "cell_type": "code",
   "execution_count": 92,
   "metadata": {},
   "outputs": [
    {
     "name": "stdout",
     "output_type": "stream",
     "text": [
      "+----+-----+\n",
      "|word|count|\n",
      "+----+-----+\n",
      "| the| 4842|\n",
      "|  to| 4399|\n",
      "|  of| 3957|\n",
      "| and| 3785|\n",
      "| her| 2281|\n",
      "|   i| 2105|\n",
      "|   a| 2080|\n",
      "|  in| 2039|\n",
      "| was| 1877|\n",
      "| she| 1744|\n",
      "|that| 1639|\n",
      "|  it| 1597|\n",
      "| not| 1526|\n",
      "| you| 1444|\n",
      "|  he| 1359|\n",
      "| his| 1302|\n",
      "|  be| 1280|\n",
      "|  as| 1240|\n",
      "| had| 1186|\n",
      "|with| 1148|\n",
      "+----+-----+\n",
      "only showing top 20 rows\n",
      "\n"
     ]
    }
   ],
   "source": [
    "result = groups.orderBy(col(\"count\").desc())\n",
    "result.show()"
   ]
  },
  {
   "cell_type": "code",
   "execution_count": 100,
   "metadata": {},
   "outputs": [],
   "source": [
    "result.coalesce(1).write.csv(\"./datasets/word_count.csv\")"
   ]
  }
 ],
 "metadata": {
  "kernelspec": {
   "display_name": "env",
   "language": "python",
   "name": "python3"
  },
  "language_info": {
   "codemirror_mode": {
    "name": "ipython",
    "version": 3
   },
   "file_extension": ".py",
   "mimetype": "text/x-python",
   "name": "python",
   "nbconvert_exporter": "python",
   "pygments_lexer": "ipython3",
   "version": "3.11.5"
  },
  "orig_nbformat": 4
 },
 "nbformat": 4,
 "nbformat_minor": 2
}
